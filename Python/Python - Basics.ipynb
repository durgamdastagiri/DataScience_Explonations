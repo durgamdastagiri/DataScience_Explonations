{
 "cells": [
  {
   "cell_type": "markdown",
   "metadata": {},
   "source": [
    "## Python"
   ]
  },
  {
   "cell_type": "markdown",
   "metadata": {},
   "source": [
    "**Python** is an interpreted, object-oriented, high-level programming language with dynamic semantics. Its high-level built in data structures, combined with dynamic typing and dynamic binding, make it very attractive for Rapid Application Development, as well as for use as a scripting or glue language to connect existing components together. Python's simple, easy to learn syntax emphasizes readability and therefore reduces the cost of program maintenance. Python supports modules and packages, which encourages program modularity and code reuse. The Python interpreter and the extensive standard library are available in source or binary form without charge for all major platforms, and can be freely distributed."
   ]
  },
  {
   "cell_type": "code",
   "execution_count": null,
   "metadata": {},
   "outputs": [],
   "source": []
  },
  {
   "cell_type": "markdown",
   "metadata": {},
   "source": [
    "### Data types"
   ]
  },
  {
   "cell_type": "markdown",
   "metadata": {},
   "source": [
    "Data types are the classification or categorization of data items. It represents the kind of value that tells what operations can be performed on a particular data. Since everything is an object in Python programming, data types are actually classes and variables are instance (object) of these classes.\n",
    "\n",
    "Following are the standard or built-in data type of Python:\n",
    "\n",
    "* Numeric\n",
    "* Boolean\n",
    "* Sequence Type\n",
    "* Set\n",
    "* Dictionary"
   ]
  },
  {
   "cell_type": "markdown",
   "metadata": {},
   "source": [
    "<img src='https://media.geeksforgeeks.org/wp-content/uploads/20191023173512/Python-data-structure.jpg'/>"
   ]
  },
  {
   "cell_type": "markdown",
   "metadata": {},
   "source": [
    "### Numeric\n",
    "\n",
    "   In Python, numeric data type represent the data which has numeric value. Numeric value can be integer, floating number or even complex numbers. These values are defined as int, float and complex class in Python."
   ]
  },
  {
   "cell_type": "markdown",
   "metadata": {},
   "source": [
    "**Integers** – This value is represented by int class. It contains positive or negative whole numbers (without fraction or decimal). In Python there is no limit to how long an integer value can be."
   ]
  },
  {
   "cell_type": "code",
   "execution_count": 8,
   "metadata": {},
   "outputs": [
    {
     "name": "stdout",
     "output_type": "stream",
     "text": [
      "<class 'int'>\n",
      "<class 'int'>\n"
     ]
    }
   ],
   "source": [
    "# Examples\n",
    "4\n",
    "print(type(4))\n",
    "print(type(7))"
   ]
  },
  {
   "cell_type": "markdown",
   "metadata": {},
   "source": [
    "\n",
    "**Float** – This value is represented by float class. It is a real number with floating point representation. It is specified by a decimal point. Optionally, the character e or E followed by a positive or negative integer may be appended to specify scientific notation."
   ]
  },
  {
   "cell_type": "code",
   "execution_count": 7,
   "metadata": {},
   "outputs": [
    {
     "name": "stdout",
     "output_type": "stream",
     "text": [
      "<class 'float'>\n"
     ]
    }
   ],
   "source": [
    "# Examples\n",
    "5.2\n",
    "7.9\n",
    "3.8\n",
    "print(type(7.9))"
   ]
  },
  {
   "cell_type": "markdown",
   "metadata": {},
   "source": [
    "**Complex Numbers** – Complex number is represented by complex class. It is specified as (real part) + (imaginary part)j."
   ]
  },
  {
   "cell_type": "code",
   "execution_count": 9,
   "metadata": {},
   "outputs": [
    {
     "name": "stdout",
     "output_type": "stream",
     "text": [
      "<class 'complex'>\n"
     ]
    }
   ],
   "source": [
    "# Examples\n",
    "5 + 3j\n",
    "8 + 9j\n",
    "\n",
    "print(type(5 + 3j))"
   ]
  },
  {
   "cell_type": "markdown",
   "metadata": {},
   "source": [
    "### Boolean\n",
    "\n",
    "Data type with one of the two built-in values, True or False. Boolean objects that are equal to True are truthy (true), and those equal to False are falsy (false). But non-Boolean objects can be evaluated in Boolean context as well and determined to be true or false. It is denoted by the class bool.\n",
    "\n",
    "True and False with capital ‘T’ and ‘F’ are valid booleans otherwise python will throw an error.\n"
   ]
  },
  {
   "cell_type": "code",
   "execution_count": 11,
   "metadata": {},
   "outputs": [
    {
     "name": "stdout",
     "output_type": "stream",
     "text": [
      "<class 'bool'>\n",
      "<class 'bool'>\n"
     ]
    }
   ],
   "source": [
    "# Examples\n",
    "True, False\n",
    "\n",
    "print(type(True))\n",
    "print(type(False))"
   ]
  },
  {
   "cell_type": "code",
   "execution_count": 14,
   "metadata": {},
   "outputs": [
    {
     "ename": "NameError",
     "evalue": "name 'true' is not defined",
     "output_type": "error",
     "traceback": [
      "\u001b[0;31m---------------------------------------------------------------------------\u001b[0m",
      "\u001b[0;31mNameError\u001b[0m                                 Traceback (most recent call last)",
      "\u001b[0;32m<ipython-input-14-91613fcd4d45>\u001b[0m in \u001b[0;36m<module>\u001b[0;34m\u001b[0m\n\u001b[1;32m      1\u001b[0m \u001b[0;31m# It throughs error if we use lower case letters of True/ False, because true is a unknown keyword for python compiler\u001b[0m\u001b[0;34m\u001b[0m\u001b[0;34m\u001b[0m\u001b[0;34m\u001b[0m\u001b[0m\n\u001b[0;32m----> 2\u001b[0;31m \u001b[0mprint\u001b[0m\u001b[0;34m(\u001b[0m\u001b[0mtype\u001b[0m\u001b[0;34m(\u001b[0m\u001b[0mtrue\u001b[0m\u001b[0;34m)\u001b[0m\u001b[0;34m)\u001b[0m\u001b[0;34m\u001b[0m\u001b[0;34m\u001b[0m\u001b[0m\n\u001b[0m",
      "\u001b[0;31mNameError\u001b[0m: name 'true' is not defined"
     ]
    }
   ],
   "source": [
    "# It throughs error if we use lower case letters of True/ False,\n",
    "# because true is a unknown keyword for python compiler\n",
    "print(type(true))"
   ]
  },
  {
   "cell_type": "markdown",
   "metadata": {},
   "source": [
    "### Sequence Type\n",
    "\n",
    "In Python, sequence is the ordered collection of similar or different data types. Sequences allows to store multiple values in an organized and efficient fashion. There are several sequence types in Python –\n",
    "\n",
    "* String\n",
    "* List\n",
    "* Tuple\n",
    "\n",
    "\n",
    "#### String\n",
    "\n",
    "In Python, Strings are arrays of bytes representing Unicode characters. A string is a collection of one or more characters put in a single quote, double-quote or triple quote. In python there is no character data type, a character is a string of length one. It is represented by str class."
   ]
  },
  {
   "cell_type": "markdown",
   "metadata": {},
   "source": [
    "##### Creating a string\n",
    "\n",
    "Strings in Python can be created using single quotes or double quotes or even triple quotes."
   ]
  },
  {
   "cell_type": "code",
   "execution_count": 28,
   "metadata": {},
   "outputs": [
    {
     "name": "stdout",
     "output_type": "stream",
     "text": [
      "String with the use of Single Quotes: \n",
      "Welcome to the Python World\n",
      "\n",
      "String with the use of Double Quotes: \n",
      "I'm a Developer\n",
      "<class 'str'>\n",
      "\n",
      "String with the use of Triple Quotes: \n",
      "I'm a Developer and I live in a world of \"AI\"\n",
      "<class 'str'>\n",
      "\n",
      "Creating a multiline String: \n",
      "Technology  \n",
      "            For  \n",
      "            Life\n"
     ]
    }
   ],
   "source": [
    "# Python Program for  \n",
    "# Creation of String  \n",
    "    \n",
    "# Creating a String   \n",
    "# with single Quotes  \n",
    "String1 = 'Welcome to the Python World'\n",
    "print(\"String with the use of Single Quotes: \")  \n",
    "print(String1)  \n",
    "    \n",
    "# Creating a String  \n",
    "# with double Quotes  \n",
    "String1 = \"I'm a Developer\"\n",
    "print(\"\\nString with the use of Double Quotes: \")  \n",
    "print(String1)  \n",
    "print(type(String1)) \n",
    "    \n",
    "# Creating a String  \n",
    "# with triple Quotes  \n",
    "String1 = '''I'm a Developer and I live in a world of \"AI\"'''\n",
    "print(\"\\nString with the use of Triple Quotes: \")  \n",
    "print(String1)  \n",
    "print(type(String1)) \n",
    "  \n",
    "# Creating String with triple  \n",
    "# Quotes allows multiple lines  \n",
    "String1 = '''Technology  \n",
    "            For  \n",
    "            Life'''\n",
    "print(\"\\nCreating a multiline String: \")  \n",
    "print(String1)  "
   ]
  },
  {
   "cell_type": "markdown",
   "metadata": {},
   "source": [
    "##### Accessing elements of string\n",
    "\n",
    "In Python, individual characters of a String can be accessed by using the method of Indexing. Indexing allows negative address references to access characters from the back of the String, e.g. -1 refers to the last character, -2 refers to the second last character and so on.\n",
    "\n",
    "While accessing an index out of the range will cause an IndexError. Only Integers are allowed to be passed as an index, float or other types will cause a TypeError."
   ]
  },
  {
   "attachments": {},
   "cell_type": "markdown",
   "metadata": {},
   "source": [
    "<img src='https://media.geeksforgeeks.org/wp-content/uploads/20191023134745/strings1.jpg' />"
   ]
  },
  {
   "cell_type": "code",
   "execution_count": 17,
   "metadata": {},
   "outputs": [
    {
     "name": "stdout",
     "output_type": "stream",
     "text": [
      "Initial String: \n",
      "Hello World\n",
      "\n",
      "First character of String is: \n",
      "H\n",
      "\n",
      "Last character of String is: \n",
      "d\n"
     ]
    }
   ],
   "source": [
    "# Python Program to Access  \n",
    "# characters of String  \n",
    "    \n",
    "String1 = \"Hello World\"\n",
    "print(\"Initial String: \")  \n",
    "print(String1)  \n",
    "    \n",
    "# Printing First character  \n",
    "print(\"\\nFirst character of String is: \")  \n",
    "print(String1[0])  \n",
    "    \n",
    "# Printing Last character  \n",
    "print(\"\\nLast character of String is: \")  \n",
    "print(String1[-1]) "
   ]
  },
  {
   "cell_type": "markdown",
   "metadata": {},
   "source": [
    "##### Deleting/Updating from a String\n",
    "\n",
    "In Python, Updation or deletion of characters from a String is not allowed. This will cause an error because item assignment or item deletion from a String is not supported. This is because Strings are immutable, hence elements of a String cannot be changed once it has been assigned. Only new strings can be reassigned to the same name."
   ]
  },
  {
   "cell_type": "code",
   "execution_count": 29,
   "metadata": {},
   "outputs": [
    {
     "name": "stdout",
     "output_type": "stream",
     "text": [
      "Initial String: \n",
      "Hello, I'm a Developer\n"
     ]
    }
   ],
   "source": [
    "# Python Program to Update / delete \n",
    "# character of a String \n",
    "\n",
    "String1 = \"Hello, I'm a Developer\"\n",
    "print(\"Initial String: \") \n",
    "print(String1) "
   ]
  },
  {
   "cell_type": "code",
   "execution_count": 23,
   "metadata": {},
   "outputs": [
    {
     "ename": "TypeError",
     "evalue": "'str' object does not support item assignment",
     "output_type": "error",
     "traceback": [
      "\u001b[0;31m---------------------------------------------------------------------------\u001b[0m",
      "\u001b[0;31mTypeError\u001b[0m                                 Traceback (most recent call last)",
      "\u001b[0;32m<ipython-input-23-787b408c2107>\u001b[0m in \u001b[0;36m<module>\u001b[0;34m\u001b[0m\n\u001b[1;32m      1\u001b[0m \u001b[0;31m# Updating a character\u001b[0m\u001b[0;34m\u001b[0m\u001b[0;34m\u001b[0m\u001b[0;34m\u001b[0m\u001b[0m\n\u001b[1;32m      2\u001b[0m \u001b[0;31m# of the String\u001b[0m\u001b[0;34m\u001b[0m\u001b[0;34m\u001b[0m\u001b[0;34m\u001b[0m\u001b[0m\n\u001b[0;32m----> 3\u001b[0;31m \u001b[0mString1\u001b[0m\u001b[0;34m[\u001b[0m\u001b[0;36m2\u001b[0m\u001b[0;34m]\u001b[0m \u001b[0;34m=\u001b[0m \u001b[0;34m'p'\u001b[0m\u001b[0;34m\u001b[0m\u001b[0;34m\u001b[0m\u001b[0m\n\u001b[0m\u001b[1;32m      4\u001b[0m \u001b[0mprint\u001b[0m\u001b[0;34m(\u001b[0m\u001b[0;34m\"\\nUpdating character at 2nd Index: \"\u001b[0m\u001b[0;34m)\u001b[0m\u001b[0;34m\u001b[0m\u001b[0;34m\u001b[0m\u001b[0m\n\u001b[1;32m      5\u001b[0m \u001b[0mprint\u001b[0m\u001b[0;34m(\u001b[0m\u001b[0mString1\u001b[0m\u001b[0;34m)\u001b[0m\u001b[0;34m\u001b[0m\u001b[0;34m\u001b[0m\u001b[0m\n",
      "\u001b[0;31mTypeError\u001b[0m: 'str' object does not support item assignment"
     ]
    }
   ],
   "source": [
    "# Updating a character \n",
    "# of the String \n",
    "String1[2] = 'p'\n",
    "print(\"\\nUpdating character at 2nd Index: \") \n",
    "print(String1) "
   ]
  },
  {
   "cell_type": "code",
   "execution_count": 24,
   "metadata": {},
   "outputs": [
    {
     "ename": "TypeError",
     "evalue": "'str' object doesn't support item deletion",
     "output_type": "error",
     "traceback": [
      "\u001b[0;31m---------------------------------------------------------------------------\u001b[0m",
      "\u001b[0;31mTypeError\u001b[0m                                 Traceback (most recent call last)",
      "\u001b[0;32m<ipython-input-24-3c884f47a979>\u001b[0m in \u001b[0;36m<module>\u001b[0;34m\u001b[0m\n\u001b[1;32m      1\u001b[0m \u001b[0;31m# Deleting a character\u001b[0m\u001b[0;34m\u001b[0m\u001b[0;34m\u001b[0m\u001b[0;34m\u001b[0m\u001b[0m\n\u001b[1;32m      2\u001b[0m \u001b[0;31m# of the String\u001b[0m\u001b[0;34m\u001b[0m\u001b[0;34m\u001b[0m\u001b[0;34m\u001b[0m\u001b[0m\n\u001b[0;32m----> 3\u001b[0;31m \u001b[0;32mdel\u001b[0m \u001b[0mString1\u001b[0m\u001b[0;34m[\u001b[0m\u001b[0;36m2\u001b[0m\u001b[0;34m]\u001b[0m\u001b[0;34m\u001b[0m\u001b[0;34m\u001b[0m\u001b[0m\n\u001b[0m\u001b[1;32m      4\u001b[0m \u001b[0mprint\u001b[0m\u001b[0;34m(\u001b[0m\u001b[0;34m\"\\nDeleting character at 2nd Index: \"\u001b[0m\u001b[0;34m)\u001b[0m\u001b[0;34m\u001b[0m\u001b[0;34m\u001b[0m\u001b[0m\n\u001b[1;32m      5\u001b[0m \u001b[0mprint\u001b[0m\u001b[0;34m(\u001b[0m\u001b[0mString1\u001b[0m\u001b[0;34m)\u001b[0m\u001b[0;34m\u001b[0m\u001b[0;34m\u001b[0m\u001b[0m\n",
      "\u001b[0;31mTypeError\u001b[0m: 'str' object doesn't support item deletion"
     ]
    }
   ],
   "source": [
    "# Deleting a character \n",
    "# of the String \n",
    "del String1[2] \n",
    "print(\"\\nDeleting character at 2nd Index: \") \n",
    "print(String1) "
   ]
  },
  {
   "cell_type": "markdown",
   "metadata": {},
   "source": [
    "##### Escape Sequencing in Python\n",
    "\n",
    "While printing Strings with single and double quotes in it causes SyntaxError because String already contains Single and Double Quotes and hence cannot be printed with the use of either of these. Hence, to print such a String either Triple Quotes are used or Escape sequences are used to print such Strings.\n",
    "\n",
    "Escape sequences start with a backslash and can be interpreted differently. If single quotes are used to represent a string, then all the single quotes present in the string must be escaped and same is done for Double Quotes."
   ]
  },
  {
   "cell_type": "code",
   "execution_count": 27,
   "metadata": {},
   "outputs": [
    {
     "name": "stdout",
     "output_type": "stream",
     "text": [
      "Initial String with use of Triple Quotes: \n",
      "I'm a \"Developer\"\n",
      "\n",
      "Escaping Single Quote: \n",
      "I'm a \"Developer\"\n",
      "\n",
      "Escaping Double Quotes: \n",
      "I'm a \"Developer\"\n",
      "\n",
      "Escaping Backslashes: \n",
      "C:\\Python\\myFiles\\\n"
     ]
    }
   ],
   "source": [
    "# Python Program for \n",
    "# Escape Sequencing \n",
    "# of String \n",
    "\n",
    "# Initial String \n",
    "String1 = '''I'm a \"Developer\"'''\n",
    "print(\"Initial String with use of Triple Quotes: \") \n",
    "print(String1) \n",
    "\n",
    "# Escaping Single Quote \n",
    "String1 = 'I\\'m a \"Developer\"'\n",
    "print(\"\\nEscaping Single Quote: \") \n",
    "print(String1) \n",
    "\n",
    "# Escaping Doule Quotes \n",
    "String1 = \"I'm a \\\"Developer\\\"\"\n",
    "print(\"\\nEscaping Double Quotes: \") \n",
    "print(String1) \n",
    "\n",
    "# Printing Paths with the \n",
    "# use of Escape Sequences \n",
    "String1 = \"C:\\\\Python\\\\myFiles\\\\\"\n",
    "print(\"\\nEscaping Backslashes: \") \n",
    "print(String1) \n",
    "\n"
   ]
  },
  {
   "cell_type": "markdown",
   "metadata": {},
   "source": [
    "### List\n",
    "\n",
    "Lists are just like the arrays, declared in other languages. Lists need not be homogeneous always which makes it the most powerful tool in Python. A single list may contain Data Types like Integers, Strings, as well as Objects. Lists are mutable, and hence, they can be altered even after their creation. List in Python are ordered and have a definite count. The elements in a list are indexed according to a definite sequence and the indexing of a list is done with 0 being the first index. Each element in the list has its definite place in the list, which allows duplicating of elements in the list, with each element having its own distinct place and credibility. It is represented by list class."
   ]
  },
  {
   "cell_type": "markdown",
   "metadata": {},
   "source": [
    "##### Creating a list\n",
    "Lists in Python can be created by just placing the sequence inside the square brackets[]. Unlike Sets, list doesn’t need a built-in function for creation of list."
   ]
  },
  {
   "cell_type": "code",
   "execution_count": 32,
   "metadata": {},
   "outputs": [
    {
     "name": "stdout",
     "output_type": "stream",
     "text": [
      "Intial blank List: \n",
      "[]\n",
      "\n",
      "List with the use of String: \n",
      "['Hello']\n",
      "\n",
      "List containing multiple values: \n",
      "Hello\n",
      "World\n",
      "\n",
      "Multi-Dimensional List: \n",
      "[['Hello', 'My'], ['World']]\n"
     ]
    }
   ],
   "source": [
    "# Python program to demonstrate \n",
    "# Creation of List \n",
    "\n",
    "# Creating a List \n",
    "List = [] \n",
    "print(\"Intial blank List: \") \n",
    "print(List) \n",
    "\n",
    "# Creating a List with \n",
    "# the use of a String \n",
    "List = ['Hello'] \n",
    "print(\"\\nList with the use of String: \") \n",
    "print(List) \n",
    "\n",
    "# Creating a List with \n",
    "# the use of multiple values \n",
    "List = [\"Hello\", \"My\", \"World\"] \n",
    "print(\"\\nList containing multiple values: \") \n",
    "print(List[0]) \n",
    "print(List[2]) \n",
    "\n",
    "# Creating a Multi-Dimensional List \n",
    "# (By Nesting a list inside a List) \n",
    "List = [['Hello', 'My'], ['World']] \n",
    "print(\"\\nMulti-Dimensional List: \") \n",
    "print(List) "
   ]
  },
  {
   "cell_type": "markdown",
   "metadata": {},
   "source": [
    "##### Adding Elements to a List\n",
    "Elements can be added to the List by using built-in append() function. Only one element at a time can be added to the list by using append() method. For addition of element at the desired position, insert() method is used. Other than append() and insert() methods, there’s one more method for Addition of elements, extend(), this method is used to add multiple elements at the same time at the end of the list."
   ]
  },
  {
   "cell_type": "code",
   "execution_count": 33,
   "metadata": {},
   "outputs": [
    {
     "name": "stdout",
     "output_type": "stream",
     "text": [
      "Initial blank List: \n",
      "[]\n",
      "\n",
      "List after Addition of Three elements: \n",
      "[1, 2, 4]\n",
      "\n",
      "List after performing Insert Operation: \n",
      "['Giri', 1, 2, 4, 12]\n",
      "\n",
      "List after performing Extend Operation: \n",
      "['Giri', 1, 2, 4, 12, 8, 'Giri', 'Always']\n"
     ]
    }
   ],
   "source": [
    "# Python program to demonstrate \n",
    "# Addition of elements in a List \n",
    "\n",
    "# Creating a List \n",
    "List = [] \n",
    "print(\"Initial blank List: \") \n",
    "print(List) \n",
    "\n",
    "# Addition of Elements \n",
    "# in the List \n",
    "List.append(1) \n",
    "List.append(2) \n",
    "List.append(4) \n",
    "print(\"\\nList after Addition of Three elements: \") \n",
    "print(List) \n",
    "\n",
    "# Addition of Element at \n",
    "# specific Position \n",
    "# (using Insert Method) \n",
    "List.insert(3, 12) \n",
    "List.insert(0, 'Giri') \n",
    "print(\"\\nList after performing Insert Operation: \") \n",
    "print(List) \n",
    "\n",
    "# Addition of multiple elements \n",
    "# to the List at the end \n",
    "# (using Extend Method) \n",
    "List.extend([8, 'Giri', 'Always']) \n",
    "print(\"\\nList after performing Extend Operation: \") \n",
    "print(List) \n",
    "\n"
   ]
  },
  {
   "cell_type": "markdown",
   "metadata": {},
   "source": [
    "##### Accessing elements from the List\n",
    "In order to access the list items refer to the index number.Use the index operator [ ] to access an item in a list.The index must be an integer. Nested list is accessed using nested indexing. In Python, negative sequence indexes represent positions from the end of the array. Instead of having to compute the offset as in List[len(List)-3], it is enough to just write List[-3]. Negative indexing means beginning from the end, -1 refers to the last item, -2 refers to the second last item etc."
   ]
  },
  {
   "cell_type": "code",
   "execution_count": 35,
   "metadata": {},
   "outputs": [
    {
     "name": "stdout",
     "output_type": "stream",
     "text": [
      "Accessing element from the list\n",
      "Python\n",
      "CPP\n",
      "Accessing element using negative indexing\n",
      "CPP\n",
      "Python\n"
     ]
    }
   ],
   "source": [
    "# Python program to demonstrate \n",
    "# accessing of element from list \n",
    "\n",
    "# Creating a List with \n",
    "# the use of multiple values \n",
    "List = [\"Python\", \"Java\", \"CPP\"] \n",
    "\n",
    "# accessing a element from the \n",
    "# list using index number \n",
    "print(\"Accessing element from the list\") \n",
    "print(List[0]) \n",
    "print(List[2]) \n",
    "\n",
    "# accessing a element using \n",
    "# negative indexing \n",
    "print(\"Accessing element using negative indexing\") \n",
    "\n",
    "# print the last element of list \n",
    "print(List[-1]) \n",
    "\n",
    "# print the third last element of list \n",
    "print(List[-3]) \n",
    "\n"
   ]
  },
  {
   "cell_type": "markdown",
   "metadata": {},
   "source": [
    "##### Removing Elements from the List\n",
    "\n",
    "\n",
    "Elements can be removed from the List by using built-in remove() function but an Error arises if element doesn’t exist in the set. Pop() function can also be used to remove and return an element from the set, but by default it removes only the last element of the set, to remove element from a specific position of the List, index of the element is passed as an argument to the pop() method.\n",
    "\n",
    "\n",
    "Note – Remove method in List will only remove the first occurrence of the searched element."
   ]
  },
  {
   "cell_type": "code",
   "execution_count": 36,
   "metadata": {},
   "outputs": [
    {
     "name": "stdout",
     "output_type": "stream",
     "text": [
      "Intial List: \n",
      "[1, 2, 3, 4, 5, 6, 7, 8, 9, 10, 11, 12]\n",
      "\n",
      "List after Removal of two elements: \n",
      "[1, 2, 3, 4, 7, 8, 9, 10, 11, 12]\n",
      "\n",
      "List after popping an element: \n",
      "[1, 2, 3, 4, 7, 8, 9, 10, 11]\n",
      "\n",
      "List after popping a specific element: \n",
      "[1, 2, 4, 7, 8, 9, 10, 11]\n"
     ]
    }
   ],
   "source": [
    "# Python program to demonstrate \n",
    "# Removal of elements in a List \n",
    "\n",
    "# Creating a List \n",
    "List = [1, 2, 3, 4, 5, 6, \n",
    "        7, 8, 9, 10, 11, 12] \n",
    "print(\"Intial List: \") \n",
    "print(List) \n",
    "\n",
    "# Removing elements from List \n",
    "# using Remove() method \n",
    "List.remove(5) \n",
    "List.remove(6) \n",
    "print(\"\\nList after Removal of two elements: \") \n",
    "print(List) \n",
    "\n",
    "List.pop() \n",
    "print(\"\\nList after popping an element: \") \n",
    "print(List) \n",
    "\n",
    "# Removing element at a \n",
    "# specific location from the \n",
    "# Set using the pop() method \n",
    "List.pop(2) \n",
    "print(\"\\nList after popping a specific element: \") \n",
    "print(List) \n",
    "\n"
   ]
  },
  {
   "cell_type": "markdown",
   "metadata": {},
   "source": [
    "### Tuple\n",
    "\n",
    "Tuple is an ordered collection of Python objects much like a list. The sequence of values stored in a tuple can be of any type, and they are indexed by integers. The important difference between a list and a tuple is that tuples are immutable. Also, Tuples are hashable whereas lists are not. It is represented by tuple class.\n",
    " \n",
    "\n",
    "##### Creating a Tuple\n",
    "In Python, tuples are created by placing sequence of values separated by ‘comma’ with or without the use of parentheses for grouping of data sequence. Tuples can contain any number of elements and of any datatype (like strings, integers, list, etc.). Tuples can also be created with a single element, but it is a bit tricky. Having one element in the parentheses is not sufficient, there must be a trailing ‘comma’ to make it a tuple.\n",
    "\n",
    "Note – Creation of Python tuple without the use of parentheses is known as Tuple Packing."
   ]
  },
  {
   "cell_type": "code",
   "execution_count": 37,
   "metadata": {},
   "outputs": [
    {
     "name": "stdout",
     "output_type": "stream",
     "text": [
      "Initial empty Tuple: \n",
      "()\n",
      "\n",
      "Tuple with the use of String: \n",
      "('Python', 'For')\n",
      "\n",
      "Tuple using List: \n",
      "(1, 2, 4, 5, 6)\n",
      "\n",
      "Tuple with the use of function: \n",
      "('P', 'y', 't', 'h', 'o', 'n')\n",
      "\n",
      "Tuple with nested tuples: \n",
      "((0, 1, 2, 3), ('python', 'Java'))\n"
     ]
    }
   ],
   "source": [
    "# Python program to demonstrate \n",
    "# creation of Set \n",
    "\n",
    "# Creating an empty tuple \n",
    "Tuple1 = () \n",
    "print(\"Initial empty Tuple: \") \n",
    "print (Tuple1) \n",
    "\n",
    "# Creating a Tuple with \n",
    "# the use of Strings \n",
    "Tuple1 = ('Python', 'For') \n",
    "print(\"\\nTuple with the use of String: \") \n",
    "print(Tuple1) \n",
    "\n",
    "# Creating a Tuple with \n",
    "# the use of list \n",
    "list1 = [1, 2, 4, 5, 6] \n",
    "print(\"\\nTuple using List: \") \n",
    "print(tuple(list1)) \n",
    "\n",
    "# Creating a Tuple with the \n",
    "# use of built-in function \n",
    "Tuple1 = tuple('Python') \n",
    "print(\"\\nTuple with the use of function: \") \n",
    "print(Tuple1) \n",
    "\n",
    "# Creating a Tuple \n",
    "# with nested tuples \n",
    "Tuple1 = (0, 1, 2, 3) \n",
    "Tuple2 = ('python', 'Java') \n",
    "Tuple3 = (Tuple1, Tuple2) \n",
    "print(\"\\nTuple with nested tuples: \") \n",
    "print(Tuple3) \n"
   ]
  },
  {
   "cell_type": "markdown",
   "metadata": {},
   "source": [
    "##### Accessing element of a tuple\n",
    "\n",
    "\n",
    "In order to access the tuple items refer to the index number. Use the index operator [ ] to access an item in a tuple. The index must be an integer. Nested tuple are accessed using nested indexing."
   ]
  },
  {
   "cell_type": "code",
   "execution_count": 38,
   "metadata": {},
   "outputs": [
    {
     "name": "stdout",
     "output_type": "stream",
     "text": [
      "Frist element of tuple\n",
      "1\n",
      "\n",
      "Last element of tuple\n",
      "5\n",
      "\n",
      "Third last element of tuple\n",
      "3\n"
     ]
    }
   ],
   "source": [
    "# Python program to \n",
    "# demonstrate accessing tuple \n",
    "\n",
    "tuple1 = tuple([1, 2, 3, 4, 5]) \n",
    "\n",
    "# Accessing element using indexing \n",
    "print(\"Frist element of tuple\") \n",
    "print(tuple1[0]) \n",
    "\n",
    "# Accessing element from last \n",
    "# negative indexing \n",
    "print(\"\\nLast element of tuple\") \n",
    "print(tuple1[-1]) \n",
    "\n",
    "print(\"\\nThird last element of tuple\") \n",
    "print(tuple1[-3]) \n",
    "\n"
   ]
  },
  {
   "cell_type": "markdown",
   "metadata": {},
   "source": [
    "##### Deleting/updating elements of tuple\n",
    "\n",
    "In python, deletion or Updation of a tuple is not allowed. This will cause an error because updating or deleting from a tuple is not supported. This is because tuples are immutable, hence elements of a tuple cannot be changed once it has been assigned. Only new tuples can be reassigned to the same name."
   ]
  },
  {
   "cell_type": "code",
   "execution_count": 39,
   "metadata": {},
   "outputs": [
    {
     "name": "stdout",
     "output_type": "stream",
     "text": [
      "Initial tuple\n",
      "(1, 2, 3, 4, 5)\n"
     ]
    },
    {
     "ename": "TypeError",
     "evalue": "'tuple' object does not support item assignment",
     "output_type": "error",
     "traceback": [
      "\u001b[0;31m---------------------------------------------------------------------------\u001b[0m",
      "\u001b[0;31mTypeError\u001b[0m                                 Traceback (most recent call last)",
      "\u001b[0;32m<ipython-input-39-57a53d9e2c52>\u001b[0m in \u001b[0;36m<module>\u001b[0;34m\u001b[0m\n\u001b[1;32m      9\u001b[0m \u001b[0;31m# Updating an element\u001b[0m\u001b[0;34m\u001b[0m\u001b[0;34m\u001b[0m\u001b[0;34m\u001b[0m\u001b[0m\n\u001b[1;32m     10\u001b[0m \u001b[0;31m# of a tuple\u001b[0m\u001b[0;34m\u001b[0m\u001b[0;34m\u001b[0m\u001b[0;34m\u001b[0m\u001b[0m\n\u001b[0;32m---> 11\u001b[0;31m \u001b[0mtuple1\u001b[0m\u001b[0;34m[\u001b[0m\u001b[0;36m0\u001b[0m\u001b[0;34m]\u001b[0m \u001b[0;34m=\u001b[0m \u001b[0;34m-\u001b[0m\u001b[0;36m1\u001b[0m\u001b[0;34m\u001b[0m\u001b[0;34m\u001b[0m\u001b[0m\n\u001b[0m\u001b[1;32m     12\u001b[0m \u001b[0mprint\u001b[0m\u001b[0;34m(\u001b[0m\u001b[0mtuple1\u001b[0m\u001b[0;34m)\u001b[0m\u001b[0;34m\u001b[0m\u001b[0;34m\u001b[0m\u001b[0m\n\u001b[1;32m     13\u001b[0m \u001b[0;34m\u001b[0m\u001b[0m\n",
      "\u001b[0;31mTypeError\u001b[0m: 'tuple' object does not support item assignment"
     ]
    }
   ],
   "source": [
    "# Python program to \n",
    "# demonstrate updation / deletion \n",
    "# from a tuple \n",
    "\n",
    "tuple1 = tuple([1, 2, 3, 4, 5]) \n",
    "print(\"Initial tuple\") \n",
    "print(tuple1) \n",
    "\n",
    "# Updating an element \n",
    "# of a tuple \n",
    "tuple1[0] = -1\n",
    "print(tuple1) \n",
    "\n",
    "# Deleting an element \n",
    "# from a tuple \n",
    "del tuple1[2] \n",
    "print(tuple1) \n",
    "\n"
   ]
  },
  {
   "cell_type": "markdown",
   "metadata": {},
   "source": [
    "### Boolean\n",
    "\n",
    "Data type with one of the two built-in values, True or False. Boolean objects that are equal to True are truthy (true), and those equal to False are falsy (false). But non-Boolean objects can be evaluated in Boolean context as well and determined to be true or false. It is denoted by the class bool.\n",
    "\n",
    "Note – True and False with capital ‘T’ and ‘F’ are valid booleans otherwise python will throw an error."
   ]
  },
  {
   "cell_type": "code",
   "execution_count": 40,
   "metadata": {},
   "outputs": [
    {
     "name": "stdout",
     "output_type": "stream",
     "text": [
      "<class 'bool'>\n",
      "<class 'bool'>\n"
     ]
    },
    {
     "ename": "NameError",
     "evalue": "name 'true' is not defined",
     "output_type": "error",
     "traceback": [
      "\u001b[0;31m---------------------------------------------------------------------------\u001b[0m",
      "\u001b[0;31mNameError\u001b[0m                                 Traceback (most recent call last)",
      "\u001b[0;32m<ipython-input-40-58c122357b9e>\u001b[0m in \u001b[0;36m<module>\u001b[0;34m\u001b[0m\n\u001b[1;32m      5\u001b[0m \u001b[0mprint\u001b[0m\u001b[0;34m(\u001b[0m\u001b[0mtype\u001b[0m\u001b[0;34m(\u001b[0m\u001b[0;32mFalse\u001b[0m\u001b[0;34m)\u001b[0m\u001b[0;34m)\u001b[0m\u001b[0;34m\u001b[0m\u001b[0;34m\u001b[0m\u001b[0m\n\u001b[1;32m      6\u001b[0m \u001b[0;34m\u001b[0m\u001b[0m\n\u001b[0;32m----> 7\u001b[0;31m \u001b[0mprint\u001b[0m\u001b[0;34m(\u001b[0m\u001b[0mtype\u001b[0m\u001b[0;34m(\u001b[0m\u001b[0mtrue\u001b[0m\u001b[0;34m)\u001b[0m\u001b[0;34m)\u001b[0m\u001b[0;34m\u001b[0m\u001b[0;34m\u001b[0m\u001b[0m\n\u001b[0m",
      "\u001b[0;31mNameError\u001b[0m: name 'true' is not defined"
     ]
    }
   ],
   "source": [
    "# Python program to \n",
    "# demonstrate boolean type \n",
    "\n",
    "print(type(True)) \n",
    "print(type(False)) \n",
    "\n",
    "print(type(true)) \n"
   ]
  },
  {
   "cell_type": "markdown",
   "metadata": {},
   "source": [
    "### Set\n",
    "\n",
    "In Python, Set is an unordered collection of data type that is iterable, mutable and has no duplicate elements. The order of elements in a set is undefined though it may consist of various elements. The major advantage of using a set, as opposed to a list, is that it has a highly optimized method for checking whether a specific element is contained in the set."
   ]
  },
  {
   "cell_type": "markdown",
   "metadata": {},
   "source": [
    "##### Creating a set\n",
    "\n",
    "Sets can be created by using the built-in set() function with an iterable object or a sequence by placing the sequence inside curly braces, separated by ‘comma’. A set contains only unique elements but at the time of set creation, multiple duplicate values can also be passed. The order of elements in a set is undefined and is unchangeable. Type of elements in a set need not be the same, various mixed-up data type values can also be passed to the set."
   ]
  },
  {
   "cell_type": "code",
   "execution_count": 41,
   "metadata": {},
   "outputs": [
    {
     "name": "stdout",
     "output_type": "stream",
     "text": [
      "Intial blank Set: \n",
      "set()\n",
      "\n",
      "Set with the use of String: \n",
      "{'e', 'G', 'o', 'r', 's', 'k', 'F'}\n",
      "\n",
      "Set with the use of List: \n",
      "{'Geeks', 'For'}\n",
      "\n",
      "Set with the use of Mixed Values\n",
      "{1, 2, 4, 6, 'Geeks', 'For'}\n"
     ]
    }
   ],
   "source": [
    "# Python program to demonstrate \n",
    "# Creation of Set in Python \n",
    "\n",
    "# Creating a Set \n",
    "set1 = set() \n",
    "print(\"Intial blank Set: \") \n",
    "print(set1) \n",
    "\n",
    "# Creating a Set with \n",
    "# the use of a String \n",
    "set1 = set(\"GeeksForGeeks\") \n",
    "print(\"\\nSet with the use of String: \") \n",
    "print(set1) \n",
    "\n",
    "# Creating a Set with \n",
    "# the use of a List \n",
    "set1 = set([\"Geeks\", \"For\", \"Geeks\"]) \n",
    "print(\"\\nSet with the use of List: \") \n",
    "print(set1) \n",
    "\n",
    "# Creating a Set with \n",
    "# a mixed type of values \n",
    "# (Having numbers and strings) \n",
    "set1 = set([1, 2, 'Geeks', 4, 'For', 6, 'Geeks']) \n",
    "print(\"\\nSet with the use of Mixed Values\") \n",
    "print(set1) \n",
    "\n"
   ]
  },
  {
   "cell_type": "markdown",
   "metadata": {},
   "source": [
    "##### Adding Elements to a Set\n",
    "\n",
    "Elements can be added to the Set by using built-in add() function. Only one element at a time can be added to the set by using add() method. For addition of two or more elements Update() method is used."
   ]
  },
  {
   "cell_type": "code",
   "execution_count": 42,
   "metadata": {},
   "outputs": [
    {
     "name": "stdout",
     "output_type": "stream",
     "text": [
      "Intial blank Set: \n",
      "set()\n",
      "\n",
      "Set after Addition of Three elements: \n",
      "{8, 9, (6, 7)}\n",
      "\n",
      "Set after Addition of elements using Update: \n",
      "{(6, 7), 8, 9, 10, 11}\n"
     ]
    }
   ],
   "source": [
    "# Python program to demonstrate \n",
    "# Addition of elements in a Set \n",
    "\n",
    "# Creating a Set \n",
    "set1 = set() \n",
    "print(\"Intial blank Set: \") \n",
    "print(set1) \n",
    "\n",
    "# Adding element and tuple to the Set \n",
    "set1.add(8) \n",
    "set1.add(9) \n",
    "set1.add((6, 7)) \n",
    "print(\"\\nSet after Addition of Three elements: \") \n",
    "print(set1) \n",
    "\n",
    "# Addition of elements to the Set \n",
    "# using Update function \n",
    "set1.update([10, 11]) \n",
    "print(\"\\nSet after Addition of elements using Update: \") \n",
    "print(set1) \n",
    "\n"
   ]
  },
  {
   "cell_type": "markdown",
   "metadata": {},
   "source": [
    "##### Accessing a Set\n",
    "\n",
    "Set items cannot be accessed by referring to an index, since sets are unordered the items has no index. But you can loop through the set items using a for loop, or ask if a specified value is present in a set, by using the in keyword."
   ]
  },
  {
   "cell_type": "code",
   "execution_count": 43,
   "metadata": {},
   "outputs": [
    {
     "name": "stdout",
     "output_type": "stream",
     "text": [
      "\n",
      "Initial set\n",
      "{'Geeks', 'For'}\n",
      "\n",
      "Elements of set: \n",
      "Geeks For True\n"
     ]
    }
   ],
   "source": [
    "# Python program to demonstrate \n",
    "# Accessing of elements in a set \n",
    "\n",
    "# Creating a set \n",
    "set1 = set([\"Geeks\", \"For\", \"Geeks\"]) \n",
    "print(\"\\nInitial set\") \n",
    "print(set1) \n",
    "\n",
    "# Accessing element using \n",
    "# for loop \n",
    "print(\"\\nElements of set: \") \n",
    "for i in set1: \n",
    "    print(i, end =\" \") \n",
    "\n",
    "# Checking the element \n",
    "# using in keyword \n",
    "print(\"Geeks\" in set1) \n",
    "\n"
   ]
  },
  {
   "cell_type": "markdown",
   "metadata": {},
   "source": [
    "#### Removing elements from a set\n",
    "\n",
    "Elements can be removed from the Set by using built-in remove() function but a KeyError arises if element doesn’t exist in the set. To remove elements from a set without KeyError, use discard(). Pop() function can also be used to remove and return an element from the set, but it removes only the last element of the set. To remove all the elements from the set, clear() function is used."
   ]
  },
  {
   "cell_type": "code",
   "execution_count": 44,
   "metadata": {},
   "outputs": [
    {
     "name": "stdout",
     "output_type": "stream",
     "text": [
      "Intial Set: \n",
      "{1, 2, 3, 4, 5, 6, 7, 8, 9, 10, 11, 12}\n",
      "\n",
      "Set after Removal of two elements: \n",
      "{1, 2, 3, 4, 7, 8, 9, 10, 11, 12}\n",
      "\n",
      "Set after Discarding two elements: \n",
      "{1, 2, 3, 4, 7, 10, 11, 12}\n",
      "\n",
      "Set after popping an element: \n",
      "{2, 3, 4, 7, 10, 11, 12}\n",
      "\n",
      "Set after clearing all the elements: \n",
      "set()\n"
     ]
    }
   ],
   "source": [
    "# Python program to demonstrate \n",
    "# Deletion of elements in a Set \n",
    "\n",
    "# Creating a Set \n",
    "set1 = set([1, 2, 3, 4, 5, 6, \n",
    "            7, 8, 9, 10, 11, 12]) \n",
    "print(\"Intial Set: \") \n",
    "print(set1) \n",
    "\n",
    "# Removing elements from Set \n",
    "# using Remove() method \n",
    "set1.remove(5) \n",
    "set1.remove(6) \n",
    "print(\"\\nSet after Removal of two elements: \") \n",
    "print(set1) \n",
    "\n",
    "# Removing elements from Set \n",
    "# using Discard() method \n",
    "set1.discard(8) \n",
    "set1.discard(9) \n",
    "print(\"\\nSet after Discarding two elements: \") \n",
    "print(set1) \n",
    "\n",
    "# Removing element from the \n",
    "# Set using the pop() method \n",
    "set1.pop() \n",
    "print(\"\\nSet after popping an element: \") \n",
    "print(set1) \n",
    "\n",
    "# Removing all the elements from \n",
    "# Set using clear() method \n",
    "set1.clear() \n",
    "print(\"\\nSet after clearing all the elements: \") \n",
    "print(set1) \n",
    "\n"
   ]
  },
  {
   "cell_type": "markdown",
   "metadata": {},
   "source": [
    "### Dictionary\n",
    "\n",
    "Dictionary in Python is an unordered collection of data values, used to store data values like a map, which unlike other Data Types that hold only single value as an element, Dictionary holds key:value pair. Key-value is provided in the dictionary to make it more optimized. Each key-value pair in a Dictionary is separated by a colon :, whereas each key is separated by a ‘comma’."
   ]
  },
  {
   "cell_type": "markdown",
   "metadata": {},
   "source": [
    "#### Creating a dictionary\n",
    "In Python, a Dictionary can be created by placing a sequence of elements within curly {} braces, separated by ‘comma’. Dictionary holds a pair of values, one being the Key and the other corresponding pair element being its Key:value. Values in a dictionary can be of any datatype and can be duplicated, whereas keys can’t be repeated and must be immutable.\n",
    "\n",
    "Dictionary can also be created by the built-in function dict(). An empty dictionary can be created by just placing to curly braces{}.\n",
    "\n",
    "Note – Dictionary keys are case sensitive, same name but different cases of Key will be treated distinctly."
   ]
  },
  {
   "cell_type": "code",
   "execution_count": 45,
   "metadata": {},
   "outputs": [
    {
     "name": "stdout",
     "output_type": "stream",
     "text": [
      "Empty Dictionary: \n",
      "{}\n",
      "\n",
      "Dictionary with the use of Integer Keys: \n",
      "{1: 'Geeks', 2: 'For', 3: 'Geeks'}\n",
      "\n",
      "Dictionary with the use of Mixed Keys: \n",
      "{'Name': 'Geeks', 1: [1, 2, 3, 4]}\n",
      "\n",
      "Dictionary with the use of dict(): \n",
      "{1: 'Geeks', 2: 'For', 3: 'Geeks'}\n",
      "\n",
      "Dictionary with each item as a pair: \n",
      "{1: 'Geeks', 2: 'For'}\n"
     ]
    }
   ],
   "source": [
    "# Creating an empty Dictionary \n",
    "Dict = {} \n",
    "print(\"Empty Dictionary: \") \n",
    "print(Dict) \n",
    "\n",
    "# Creating a Dictionary \n",
    "# with Integer Keys \n",
    "Dict = {1: 'Geeks', 2: 'For', 3: 'Geeks'} \n",
    "print(\"\\nDictionary with the use of Integer Keys: \") \n",
    "print(Dict) \n",
    "\n",
    "# Creating a Dictionary \n",
    "# with Mixed keys \n",
    "Dict = {'Name': 'Geeks', 1: [1, 2, 3, 4]} \n",
    "print(\"\\nDictionary with the use of Mixed Keys: \") \n",
    "print(Dict) \n",
    "\n",
    "# Creating a Dictionary \n",
    "# with dict() method \n",
    "Dict = dict({1: 'Geeks', 2: 'For', 3:'Geeks'}) \n",
    "print(\"\\nDictionary with the use of dict(): \") \n",
    "print(Dict) \n",
    "\n",
    "# Creating a Dictionary \n",
    "# with each item as a Pair \n",
    "Dict = dict([(1, 'Geeks'), (2, 'For')]) \n",
    "print(\"\\nDictionary with each item as a pair: \") \n",
    "print(Dict) \n",
    "\n"
   ]
  },
  {
   "cell_type": "markdown",
   "metadata": {},
   "source": [
    "#### Adding elements to a Dictionary\n",
    "\n",
    "\n",
    "In Python Dictionary, Addition of elements can be done in multiple ways. One value at a time can be added to a Dictionary by defining value along with the key e.g. Dict[Key] = ‘Value’. Updating an existing value in a Dictionary can be done by using the built-in update() method.\n",
    "\n",
    "Note – While adding a value, if the key-value already exists, the value gets updated otherwise a new Key with the value is added to the Dictionary."
   ]
  },
  {
   "cell_type": "code",
   "execution_count": 46,
   "metadata": {},
   "outputs": [
    {
     "name": "stdout",
     "output_type": "stream",
     "text": [
      "Empty Dictionary: \n",
      "{}\n",
      "\n",
      "Dictionary after adding 3 elements: \n",
      "{0: 'Geeks', 2: 'For', 3: 1}\n",
      "\n",
      "Updated key value: \n",
      "{0: 'Geeks', 2: 'Welcome', 3: 1}\n"
     ]
    }
   ],
   "source": [
    "# Creating an empty Dictionary \n",
    "Dict = {} \n",
    "print(\"Empty Dictionary: \") \n",
    "print(Dict) \n",
    "\n",
    "# Adding elements one at a time \n",
    "Dict[0] = 'Geeks'\n",
    "Dict[2] = 'For'\n",
    "Dict[3] = 1\n",
    "print(\"\\nDictionary after adding 3 elements: \") \n",
    "print(Dict) \n",
    "\n",
    "# Updating existing Key's Value \n",
    "Dict[2] = 'Welcome'\n",
    "print(\"\\nUpdated key value: \") \n",
    "print(Dict) \n",
    "\n"
   ]
  },
  {
   "cell_type": "markdown",
   "metadata": {},
   "source": [
    "#### Accessing elements from a Dictionary\n",
    "In order to access the items of a dictionary refer to its key name. Key can be used inside square brackets. There is also a method called get() that will also help in accessing the element from a dictionary."
   ]
  },
  {
   "cell_type": "code",
   "execution_count": 47,
   "metadata": {},
   "outputs": [
    {
     "name": "stdout",
     "output_type": "stream",
     "text": [
      "Accessing a element using key:\n",
      "For\n",
      "Accessing a element using get:\n",
      "Geeks\n"
     ]
    }
   ],
   "source": [
    "# Python program to demonstrate \n",
    "# accessing a element from a Dictionary \n",
    "\n",
    "# Creating a Dictionary \n",
    "Dict = {1: 'Geeks', 'name': 'For', 3: 'Geeks'} \n",
    "\n",
    "# accessing a element using key \n",
    "print(\"Accessing a element using key:\") \n",
    "print(Dict['name']) \n",
    "\n",
    "# accessing a element using get() \n",
    "# method \n",
    "print(\"Accessing a element using get:\") \n",
    "print(Dict.get(3)) \n",
    "\n"
   ]
  },
  {
   "cell_type": "markdown",
   "metadata": {},
   "source": [
    "#### Removing Elements from Dictionary\n",
    "In Python Dictionary, deletion of keys can be done by using the del keyword. Using del keyword, specific values from a dictionary as well as whole dictionary can be deleted. Other functions like pop() and popitem() can also be used for deleting specific values and arbitrary values from a Dictionary. All the items from a dictionary can be deleted at once by using clear() method."
   ]
  },
  {
   "cell_type": "code",
   "execution_count": 49,
   "metadata": {},
   "outputs": [
    {
     "name": "stdout",
     "output_type": "stream",
     "text": [
      "Initial Dictionary: \n",
      "{5: 'Welcome', 6: 'To', 7: 'Geeks', 'A': {1: 'Geeks', 2: 'For', 3: 'Geeks'}, 'B': {1: 'Geeks', 2: 'Life'}}\n",
      "\n",
      "Deleting a specific key: \n",
      "{5: 'Welcome', 7: 'Geeks', 'A': {1: 'Geeks', 2: 'For', 3: 'Geeks'}, 'B': {1: 'Geeks', 2: 'Life'}}\n",
      "\n",
      "Popping specific element: \n",
      "{7: 'Geeks', 'A': {1: 'Geeks', 2: 'For', 3: 'Geeks'}, 'B': {1: 'Geeks', 2: 'Life'}}\n",
      "\n",
      "Pops an arbitrary key-value pair: \n",
      "{7: 'Geeks', 'A': {1: 'Geeks', 2: 'For', 3: 'Geeks'}}\n",
      "\n",
      "Deleting Entire Dictionary: \n",
      "{}\n"
     ]
    }
   ],
   "source": [
    "# Initial Dictionary \n",
    "Dict = { 5 : 'Welcome', 6 : 'To', 7 : 'Geeks', \n",
    "        'A' : {1 : 'Geeks', 2 : 'For', 3 : 'Geeks'}, \n",
    "        'B' : {1 : 'Geeks', 2 : 'Life'}} \n",
    "\n",
    "print(\"Initial Dictionary: \") \n",
    "print(Dict) \n",
    "\n",
    "# Deleting a Key value \n",
    "del Dict[6] \n",
    "print(\"\\nDeleting a specific key: \") \n",
    "print(Dict) \n",
    "\n",
    "# Deleting a Key \n",
    "# using pop() \n",
    "Dict.pop(5) \n",
    "print(\"\\nPopping specific element: \") \n",
    "print(Dict) \n",
    "\n",
    "# Deleting an arbitrary Key-value pair \n",
    "# using popitem() \n",
    "Dict.popitem() \n",
    "print(\"\\nPops an arbitrary key-value pair: \") \n",
    "print(Dict) \n",
    "\n",
    "# Deleting entire Dictionary \n",
    "Dict.clear() \n",
    "print(\"\\nDeleting Entire Dictionary: \") \n",
    "print(Dict) \n",
    "\n"
   ]
  },
  {
   "cell_type": "code",
   "execution_count": null,
   "metadata": {},
   "outputs": [],
   "source": []
  }
 ],
 "metadata": {
  "kernelspec": {
   "display_name": "Python 3",
   "language": "python",
   "name": "python3"
  },
  "language_info": {
   "codemirror_mode": {
    "name": "ipython",
    "version": 3
   },
   "file_extension": ".py",
   "mimetype": "text/x-python",
   "name": "python",
   "nbconvert_exporter": "python",
   "pygments_lexer": "ipython3",
   "version": "3.7.4"
  }
 },
 "nbformat": 4,
 "nbformat_minor": 2
}
